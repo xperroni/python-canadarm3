{
 "cells": [
  {
   "cell_type": "markdown",
   "id": "8f0e54bf-f42e-4bcb-8713-1500cfe5ea93",
   "metadata": {},
   "source": [
    "# Dataset downloading and pre-processing\n",
    "\n",
    "This notebook ilustrates how to download and pre-process the MDA collision datasets.\n",
    "\n",
    "It uses the first session as an example.\n",
    "\n",
    "## Setup\n",
    "\n",
    "Before starting, copy your Kaggle API token to the `src/` directory.\n",
    "\n",
    "If you don't already have an API token, enter your Kaggle profile and click the _Create New API Token_ button under the **API** section:\n",
    "\n",
    "![kaggle](../doc/images/kaggle.png)\n",
    "\n",
    "The browser will prompt you to download a file named `kaggle.json`; save it to this project's `src/` directory.\n",
    "\n",
    "## Download\n",
    "\n",
    "To download Session 1 to the `data` subdirectory under this project's directory, run the code below:"
   ]
  },
  {
   "cell_type": "code",
   "execution_count": null,
   "id": "9e0999dd-1f1c-402f-bb97-c3f323cd9921",
   "metadata": {},
   "outputs": [],
   "source": [
    "from datasets import Download\n",
    "\n",
    "download_01 = Download.SESSIONS[0]\n",
    "download_01.download()"
   ]
  },
  {
   "cell_type": "markdown",
   "id": "a62ece3f-bf88-41b6-b050-3bb6590ce3b8",
   "metadata": {},
   "source": [
    "## Pre-processing\n",
    "\n",
    "Run the code below to parse the downloaded files into a dataset organized by trial:"
   ]
  },
  {
   "cell_type": "code",
   "execution_count": null,
   "id": "ef90031f-7e5e-4f3c-a5b0-7f7a41f1737d",
   "metadata": {},
   "outputs": [],
   "source": [
    "dataset_01 = download_01.load()\n",
    "dataset_01.save()"
   ]
  },
  {
   "cell_type": "markdown",
   "id": "a35a09c5-c1ab-405a-a65a-80bdfe15c494",
   "metadata": {},
   "source": [
    "The dataset is stored under `data/sessions/<session id>`."
   ]
  },
  {
   "cell_type": "markdown",
   "id": "17bf567d-80ee-420f-a248-f7f8645b0e2a",
   "metadata": {},
   "source": [
    "## Visualization\n",
    "\n",
    "Class `viewers.VideoGrid` can be used to generate a video containing all videos of a trial in a grid pattern for convenient visualization. Additionally, the borders between individual videos are set red or blue depending on whether the arm was within collision range of the obstacle on the corresponding frames."
   ]
  },
  {
   "cell_type": "code",
   "execution_count": null,
   "id": "af93b3b8-be35-4d17-b33b-969855ab1379",
   "metadata": {},
   "outputs": [],
   "source": [
    "from viewers import VideoGrid\n",
    "\n",
    "#import logging\n",
    "#logging.disable(logging.WARNING)\n",
    "\n",
    "grid = VideoGrid('../data/sessions/2020-10-05/01')\n",
    "grid.save('../data/sessions/2020-10-05/01/collage.mp4')"
   ]
  },
  {
   "cell_type": "markdown",
   "id": "74f08b96-0fb6-4b7e-9d04-027670ee362c",
   "metadata": {},
   "source": [
    "After the collated video is generated it can be displayed with:"
   ]
  },
  {
   "cell_type": "code",
   "execution_count": null,
   "id": "fab2afd8-6ed1-41fa-ab09-2bcf1c994a19",
   "metadata": {},
   "outputs": [],
   "source": [
    "from IPython.display import Video\n",
    "Video('../data/sessions/2020-10-05/01/collage.mp4', width=1024)"
   ]
  },
  {
   "cell_type": "code",
   "execution_count": null,
   "id": "d37fcfce-9972-4ead-afc6-f9d35ef5e910",
   "metadata": {},
   "outputs": [],
   "source": []
  }
 ],
 "metadata": {
  "kernelspec": {
   "display_name": "Python 3",
   "language": "python",
   "name": "python3"
  },
  "language_info": {
   "codemirror_mode": {
    "name": "ipython",
    "version": 3
   },
   "file_extension": ".py",
   "mimetype": "text/x-python",
   "name": "python",
   "nbconvert_exporter": "python",
   "pygments_lexer": "ipython3",
   "version": "3.6.9"
  }
 },
 "nbformat": 4,
 "nbformat_minor": 5
}
